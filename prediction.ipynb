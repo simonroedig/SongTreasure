{
 "cells": [
  {
   "cell_type": "markdown",
   "metadata": {},
   "source": [
    "- Grab new songs for genre from spotify -> feasible?\n",
    "- Run popularity prediction\n",
    "- Return sample"
   ]
  },
  {
   "cell_type": "code",
   "execution_count": 21,
   "metadata": {},
   "outputs": [],
   "source": [
    "import numpy as np\n",
    "import pandas as pd\n",
    "import seaborn as sns\n",
    "from matplotlib import pyplot as plt\n",
    "%matplotlib inline"
   ]
  },
  {
   "cell_type": "code",
   "execution_count": 22,
   "metadata": {},
   "outputs": [
    {
     "name": "stdout",
     "output_type": "stream",
     "text": [
      "Index(['genre', 'artist_name', 'track_name', 'track_id', 'popularity',\n",
      "       'acousticness', 'danceability', 'duration_ms', 'energy',\n",
      "       'instrumentalness', 'key', 'liveness', 'loudness', 'mode',\n",
      "       'speechiness', 'tempo', 'time_signature', 'valence'],\n",
      "      dtype='object')\n"
     ]
    },
    {
     "data": {
      "text/html": [
       "<div>\n",
       "<style scoped>\n",
       "    .dataframe tbody tr th:only-of-type {\n",
       "        vertical-align: middle;\n",
       "    }\n",
       "\n",
       "    .dataframe tbody tr th {\n",
       "        vertical-align: top;\n",
       "    }\n",
       "\n",
       "    .dataframe thead th {\n",
       "        text-align: right;\n",
       "    }\n",
       "</style>\n",
       "<table border=\"1\" class=\"dataframe\">\n",
       "  <thead>\n",
       "    <tr style=\"text-align: right;\">\n",
       "      <th></th>\n",
       "      <th>genre</th>\n",
       "      <th>artist_name</th>\n",
       "      <th>track_name</th>\n",
       "      <th>track_id</th>\n",
       "      <th>popularity</th>\n",
       "      <th>acousticness</th>\n",
       "      <th>danceability</th>\n",
       "      <th>duration_ms</th>\n",
       "      <th>energy</th>\n",
       "      <th>instrumentalness</th>\n",
       "      <th>key</th>\n",
       "      <th>liveness</th>\n",
       "      <th>loudness</th>\n",
       "      <th>mode</th>\n",
       "      <th>speechiness</th>\n",
       "      <th>tempo</th>\n",
       "      <th>time_signature</th>\n",
       "      <th>valence</th>\n",
       "    </tr>\n",
       "  </thead>\n",
       "  <tbody>\n",
       "    <tr>\n",
       "      <th>0</th>\n",
       "      <td>Movie</td>\n",
       "      <td>Henri Salvador</td>\n",
       "      <td>C'est beau de faire un Show</td>\n",
       "      <td>0BRjO6ga9RKCKjfDqeFgWV</td>\n",
       "      <td>0</td>\n",
       "      <td>0.611</td>\n",
       "      <td>0.389</td>\n",
       "      <td>99373</td>\n",
       "      <td>0.910</td>\n",
       "      <td>0.000</td>\n",
       "      <td>C#</td>\n",
       "      <td>0.3460</td>\n",
       "      <td>-1.828</td>\n",
       "      <td>Major</td>\n",
       "      <td>0.0525</td>\n",
       "      <td>166.969</td>\n",
       "      <td>4/4</td>\n",
       "      <td>0.814</td>\n",
       "    </tr>\n",
       "    <tr>\n",
       "      <th>1</th>\n",
       "      <td>Movie</td>\n",
       "      <td>Martin &amp; les fées</td>\n",
       "      <td>Perdu d'avance (par Gad Elmaleh)</td>\n",
       "      <td>0BjC1NfoEOOusryehmNudP</td>\n",
       "      <td>1</td>\n",
       "      <td>0.246</td>\n",
       "      <td>0.590</td>\n",
       "      <td>137373</td>\n",
       "      <td>0.737</td>\n",
       "      <td>0.000</td>\n",
       "      <td>F#</td>\n",
       "      <td>0.1510</td>\n",
       "      <td>-5.559</td>\n",
       "      <td>Minor</td>\n",
       "      <td>0.0868</td>\n",
       "      <td>174.003</td>\n",
       "      <td>4/4</td>\n",
       "      <td>0.816</td>\n",
       "    </tr>\n",
       "    <tr>\n",
       "      <th>2</th>\n",
       "      <td>Movie</td>\n",
       "      <td>Joseph Williams</td>\n",
       "      <td>Don't Let Me Be Lonely Tonight</td>\n",
       "      <td>0CoSDzoNIKCRs124s9uTVy</td>\n",
       "      <td>3</td>\n",
       "      <td>0.952</td>\n",
       "      <td>0.663</td>\n",
       "      <td>170267</td>\n",
       "      <td>0.131</td>\n",
       "      <td>0.000</td>\n",
       "      <td>C</td>\n",
       "      <td>0.1030</td>\n",
       "      <td>-13.879</td>\n",
       "      <td>Minor</td>\n",
       "      <td>0.0362</td>\n",
       "      <td>99.488</td>\n",
       "      <td>5/4</td>\n",
       "      <td>0.368</td>\n",
       "    </tr>\n",
       "    <tr>\n",
       "      <th>3</th>\n",
       "      <td>Movie</td>\n",
       "      <td>Henri Salvador</td>\n",
       "      <td>Dis-moi Monsieur Gordon Cooper</td>\n",
       "      <td>0Gc6TVm52BwZD07Ki6tIvf</td>\n",
       "      <td>0</td>\n",
       "      <td>0.703</td>\n",
       "      <td>0.240</td>\n",
       "      <td>152427</td>\n",
       "      <td>0.326</td>\n",
       "      <td>0.000</td>\n",
       "      <td>C#</td>\n",
       "      <td>0.0985</td>\n",
       "      <td>-12.178</td>\n",
       "      <td>Major</td>\n",
       "      <td>0.0395</td>\n",
       "      <td>171.758</td>\n",
       "      <td>4/4</td>\n",
       "      <td>0.227</td>\n",
       "    </tr>\n",
       "    <tr>\n",
       "      <th>4</th>\n",
       "      <td>Movie</td>\n",
       "      <td>Fabien Nataf</td>\n",
       "      <td>Ouverture</td>\n",
       "      <td>0IuslXpMROHdEPvSl1fTQK</td>\n",
       "      <td>4</td>\n",
       "      <td>0.950</td>\n",
       "      <td>0.331</td>\n",
       "      <td>82625</td>\n",
       "      <td>0.225</td>\n",
       "      <td>0.123</td>\n",
       "      <td>F</td>\n",
       "      <td>0.2020</td>\n",
       "      <td>-21.150</td>\n",
       "      <td>Major</td>\n",
       "      <td>0.0456</td>\n",
       "      <td>140.576</td>\n",
       "      <td>4/4</td>\n",
       "      <td>0.390</td>\n",
       "    </tr>\n",
       "  </tbody>\n",
       "</table>\n",
       "</div>"
      ],
      "text/plain": [
       "   genre        artist_name                        track_name  \\\n",
       "0  Movie     Henri Salvador       C'est beau de faire un Show   \n",
       "1  Movie  Martin & les fées  Perdu d'avance (par Gad Elmaleh)   \n",
       "2  Movie    Joseph Williams    Don't Let Me Be Lonely Tonight   \n",
       "3  Movie     Henri Salvador    Dis-moi Monsieur Gordon Cooper   \n",
       "4  Movie       Fabien Nataf                         Ouverture   \n",
       "\n",
       "                 track_id  popularity  acousticness  danceability  \\\n",
       "0  0BRjO6ga9RKCKjfDqeFgWV           0         0.611         0.389   \n",
       "1  0BjC1NfoEOOusryehmNudP           1         0.246         0.590   \n",
       "2  0CoSDzoNIKCRs124s9uTVy           3         0.952         0.663   \n",
       "3  0Gc6TVm52BwZD07Ki6tIvf           0         0.703         0.240   \n",
       "4  0IuslXpMROHdEPvSl1fTQK           4         0.950         0.331   \n",
       "\n",
       "   duration_ms  energy  instrumentalness key  liveness  loudness   mode  \\\n",
       "0        99373   0.910             0.000  C#    0.3460    -1.828  Major   \n",
       "1       137373   0.737             0.000  F#    0.1510    -5.559  Minor   \n",
       "2       170267   0.131             0.000   C    0.1030   -13.879  Minor   \n",
       "3       152427   0.326             0.000  C#    0.0985   -12.178  Major   \n",
       "4        82625   0.225             0.123   F    0.2020   -21.150  Major   \n",
       "\n",
       "   speechiness    tempo time_signature  valence  \n",
       "0       0.0525  166.969            4/4    0.814  \n",
       "1       0.0868  174.003            4/4    0.816  \n",
       "2       0.0362   99.488            5/4    0.368  \n",
       "3       0.0395  171.758            4/4    0.227  \n",
       "4       0.0456  140.576            4/4    0.390  "
      ]
     },
     "execution_count": 22,
     "metadata": {},
     "output_type": "execute_result"
    }
   ],
   "source": [
    "df = pd.read_csv('SpotifyFeatures.csv')\n",
    "print(df.columns)\n",
    "df.head()"
   ]
  },
  {
   "cell_type": "code",
   "execution_count": 23,
   "metadata": {},
   "outputs": [
    {
     "name": "stderr",
     "output_type": "stream",
     "text": [
      "C:\\Users\\lukas\\AppData\\Local\\Temp\\ipykernel_6016\\863828324.py:2: UserWarning: Boolean Series key will be reindexed to match DataFrame index.\n",
      "  df = df[df.time_signature != \"0/4\"][df.time_signature != \"1/4\"]\n"
     ]
    }
   ],
   "source": [
    "df = df.dropna()\n",
    "df = df[df.time_signature != \"0/4\"][df.time_signature != \"1/4\"]\n",
    "df = df.sort_values(by=\"popularity\", ascending=False).drop_duplicates('track_id', keep='first')"
   ]
  },
  {
   "cell_type": "code",
   "execution_count": 24,
   "metadata": {},
   "outputs": [],
   "source": [
    "key_conversion = {\"C\": 0, \"C#\": 1, \"D\": 2, \"D#\": 3, \"E\": 4, \"F\": 5, \"F#\": 6, \"G\": 7, \"G#\": 8, \"A\": 9, \"A#\": 10, \"B\": 11}\n",
    "mode_conversion = {\"Major\": 1, \"Minor\": 0}\n",
    "time_signature_conversion = {\"3/4\": 3, \"4/4\": 4, \"5/4\": 5, \"6/4\": 6, \"7/4\": 7}\n",
    "\n",
    "df['key'] = df['key'].map(key_conversion)\n",
    "df['mode'] = df['mode'].map(mode_conversion)\n",
    "df['time_signature'] = df['time_signature'].map(time_signature_conversion)"
   ]
  },
  {
   "cell_type": "code",
   "execution_count": 25,
   "metadata": {},
   "outputs": [],
   "source": [
    "features = [\"acousticness\", \"danceability\", \"duration_ms\", \"energy\", \"instrumentalness\", \"liveness\", \"loudness\", \"speechiness\", \"tempo\", \"valence\", \"key\", \"mode\", \"time_signature\"]"
   ]
  },
  {
   "cell_type": "code",
   "execution_count": 26,
   "metadata": {},
   "outputs": [
    {
     "data": {
      "text/html": [
       "<div>\n",
       "<style scoped>\n",
       "    .dataframe tbody tr th:only-of-type {\n",
       "        vertical-align: middle;\n",
       "    }\n",
       "\n",
       "    .dataframe tbody tr th {\n",
       "        vertical-align: top;\n",
       "    }\n",
       "\n",
       "    .dataframe thead th {\n",
       "        text-align: right;\n",
       "    }\n",
       "</style>\n",
       "<table border=\"1\" class=\"dataframe\">\n",
       "  <thead>\n",
       "    <tr style=\"text-align: right;\">\n",
       "      <th></th>\n",
       "      <th>acousticness</th>\n",
       "      <th>artist_name</th>\n",
       "      <th>danceability</th>\n",
       "      <th>duration_ms</th>\n",
       "      <th>energy</th>\n",
       "      <th>genre</th>\n",
       "      <th>instrumentalness</th>\n",
       "      <th>key</th>\n",
       "      <th>liveness</th>\n",
       "      <th>loudness</th>\n",
       "      <th>mode</th>\n",
       "      <th>popularity</th>\n",
       "      <th>speechiness</th>\n",
       "      <th>tempo</th>\n",
       "      <th>time_signature</th>\n",
       "      <th>track_id</th>\n",
       "      <th>track_name</th>\n",
       "      <th>valence</th>\n",
       "    </tr>\n",
       "  </thead>\n",
       "  <tbody>\n",
       "    <tr>\n",
       "      <th>9027</th>\n",
       "      <td>0.5780</td>\n",
       "      <td>Ariana Grande</td>\n",
       "      <td>0.725</td>\n",
       "      <td>178640</td>\n",
       "      <td>0.321</td>\n",
       "      <td>Dance</td>\n",
       "      <td>0.000000</td>\n",
       "      <td>1</td>\n",
       "      <td>0.0884</td>\n",
       "      <td>-10.744</td>\n",
       "      <td>0</td>\n",
       "      <td>100</td>\n",
       "      <td>0.3230</td>\n",
       "      <td>70.142</td>\n",
       "      <td>4</td>\n",
       "      <td>14msK75pk3pA33pzPVNtBF</td>\n",
       "      <td>7 rings</td>\n",
       "      <td>0.319</td>\n",
       "    </tr>\n",
       "    <tr>\n",
       "      <th>86951</th>\n",
       "      <td>0.1630</td>\n",
       "      <td>Post Malone</td>\n",
       "      <td>0.833</td>\n",
       "      <td>149520</td>\n",
       "      <td>0.539</td>\n",
       "      <td>Rap</td>\n",
       "      <td>0.000002</td>\n",
       "      <td>11</td>\n",
       "      <td>0.1010</td>\n",
       "      <td>-7.399</td>\n",
       "      <td>0</td>\n",
       "      <td>99</td>\n",
       "      <td>0.1780</td>\n",
       "      <td>99.947</td>\n",
       "      <td>4</td>\n",
       "      <td>6MWtB6iiXyIwun0YzU6DFP</td>\n",
       "      <td>Wow.</td>\n",
       "      <td>0.385</td>\n",
       "    </tr>\n",
       "    <tr>\n",
       "      <th>9026</th>\n",
       "      <td>0.0421</td>\n",
       "      <td>Ariana Grande</td>\n",
       "      <td>0.726</td>\n",
       "      <td>190440</td>\n",
       "      <td>0.554</td>\n",
       "      <td>Dance</td>\n",
       "      <td>0.000000</td>\n",
       "      <td>5</td>\n",
       "      <td>0.1060</td>\n",
       "      <td>-5.290</td>\n",
       "      <td>0</td>\n",
       "      <td>99</td>\n",
       "      <td>0.0917</td>\n",
       "      <td>169.999</td>\n",
       "      <td>4</td>\n",
       "      <td>4kV4N9D1iKVxx1KLvtTpjS</td>\n",
       "      <td>break up with your girlfriend, i'm bored</td>\n",
       "      <td>0.335</td>\n",
       "    </tr>\n",
       "    <tr>\n",
       "      <th>138918</th>\n",
       "      <td>0.1100</td>\n",
       "      <td>Daddy Yankee</td>\n",
       "      <td>0.737</td>\n",
       "      <td>193227</td>\n",
       "      <td>0.860</td>\n",
       "      <td>Reggaeton</td>\n",
       "      <td>0.000002</td>\n",
       "      <td>8</td>\n",
       "      <td>0.0574</td>\n",
       "      <td>-2.652</td>\n",
       "      <td>0</td>\n",
       "      <td>98</td>\n",
       "      <td>0.0593</td>\n",
       "      <td>93.989</td>\n",
       "      <td>4</td>\n",
       "      <td>5w9c2J52mkdntKOmRLeM2m</td>\n",
       "      <td>Con Calma</td>\n",
       "      <td>0.656</td>\n",
       "    </tr>\n",
       "    <tr>\n",
       "      <th>107875</th>\n",
       "      <td>0.3230</td>\n",
       "      <td>Pedro Capó</td>\n",
       "      <td>0.826</td>\n",
       "      <td>238200</td>\n",
       "      <td>0.773</td>\n",
       "      <td>Pop</td>\n",
       "      <td>0.000000</td>\n",
       "      <td>11</td>\n",
       "      <td>0.1430</td>\n",
       "      <td>-4.218</td>\n",
       "      <td>0</td>\n",
       "      <td>97</td>\n",
       "      <td>0.0524</td>\n",
       "      <td>126.899</td>\n",
       "      <td>4</td>\n",
       "      <td>5iwz1NiezX7WWjnCgY5TH4</td>\n",
       "      <td>Calma - Remix</td>\n",
       "      <td>0.761</td>\n",
       "    </tr>\n",
       "  </tbody>\n",
       "</table>\n",
       "</div>"
      ],
      "text/plain": [
       "        acousticness    artist_name  danceability  duration_ms  energy  \\\n",
       "9027          0.5780  Ariana Grande         0.725       178640   0.321   \n",
       "86951         0.1630    Post Malone         0.833       149520   0.539   \n",
       "9026          0.0421  Ariana Grande         0.726       190440   0.554   \n",
       "138918        0.1100   Daddy Yankee         0.737       193227   0.860   \n",
       "107875        0.3230     Pedro Capó         0.826       238200   0.773   \n",
       "\n",
       "            genre  instrumentalness  key  liveness  loudness  mode  \\\n",
       "9027        Dance          0.000000    1    0.0884   -10.744     0   \n",
       "86951         Rap          0.000002   11    0.1010    -7.399     0   \n",
       "9026        Dance          0.000000    5    0.1060    -5.290     0   \n",
       "138918  Reggaeton          0.000002    8    0.0574    -2.652     0   \n",
       "107875        Pop          0.000000   11    0.1430    -4.218     0   \n",
       "\n",
       "        popularity  speechiness    tempo  time_signature  \\\n",
       "9027           100       0.3230   70.142               4   \n",
       "86951           99       0.1780   99.947               4   \n",
       "9026            99       0.0917  169.999               4   \n",
       "138918          98       0.0593   93.989               4   \n",
       "107875          97       0.0524  126.899               4   \n",
       "\n",
       "                      track_id                                track_name  \\\n",
       "9027    14msK75pk3pA33pzPVNtBF                                   7 rings   \n",
       "86951   6MWtB6iiXyIwun0YzU6DFP                                      Wow.   \n",
       "9026    4kV4N9D1iKVxx1KLvtTpjS  break up with your girlfriend, i'm bored   \n",
       "138918  5w9c2J52mkdntKOmRLeM2m                                 Con Calma   \n",
       "107875  5iwz1NiezX7WWjnCgY5TH4                             Calma - Remix   \n",
       "\n",
       "        valence  \n",
       "9027      0.319  \n",
       "86951     0.385  \n",
       "9026      0.335  \n",
       "138918    0.656  \n",
       "107875    0.761  "
      ]
     },
     "execution_count": 26,
     "metadata": {},
     "output_type": "execute_result"
    }
   ],
   "source": [
    "df.head()"
   ]
  },
  {
   "cell_type": "code",
   "execution_count": 30,
   "metadata": {},
   "outputs": [],
   "source": [
    "x = df[features].sort_index(axis=1)\n",
    "y = df[\"popularity\"]\n",
    "\n",
    "x_mean = x.mean()\n",
    "x_std = x.std()\n",
    "\n",
    "x = (x - x.mean()) / x.std()"
   ]
  },
  {
   "cell_type": "code",
   "execution_count": 32,
   "metadata": {},
   "outputs": [],
   "source": [
    "import pickle\n",
    "\n",
    "dataframes = {\"x_mean\": x_mean, \"x_std\": x_std}\n",
    "with open('normalization.pkl', 'wb') as f:\n",
    "    pickle.dump(dataframes, f)\n"
   ]
  },
  {
   "cell_type": "code",
   "execution_count": 33,
   "metadata": {},
   "outputs": [],
   "source": [
    "with open('normalization.pkl', 'rb') as f:\n",
    "    dataframes = pickle.load(f)\n",
    "x_mean = dataframes[\"x_mean\"]\n",
    "x_std = dataframes[\"x_std\"]"
   ]
  },
  {
   "cell_type": "code",
   "execution_count": 34,
   "metadata": {},
   "outputs": [],
   "source": [
    "from sklearn.model_selection import train_test_split\n",
    "\n",
    "x_train, x_test, y_train, y_test = train_test_split(x, y, test_size=0.2, random_state=42)"
   ]
  },
  {
   "cell_type": "code",
   "execution_count": 36,
   "metadata": {},
   "outputs": [
    {
     "data": {
      "text/plain": [
       "(139537, 34885)"
      ]
     },
     "execution_count": 36,
     "metadata": {},
     "output_type": "execute_result"
    }
   ],
   "source": [
    "len(x_train), len(x_test)"
   ]
  },
  {
   "cell_type": "code",
   "execution_count": 37,
   "metadata": {},
   "outputs": [],
   "source": [
    "x_train = x_train[:]\n",
    "y_train = y_train[:]\n",
    "\n",
    "x_test = x_test[:]\n",
    "y_test = y_test[:]"
   ]
  },
  {
   "cell_type": "code",
   "execution_count": 38,
   "metadata": {},
   "outputs": [
    {
     "name": "stdout",
     "output_type": "stream",
     "text": [
      "15.739955149061556\n",
      "15.083334805880128\n"
     ]
    }
   ],
   "source": [
    "# do a linear regression\n",
    "from sklearn.linear_model import LinearRegression\n",
    "from sklearn.metrics import mean_squared_error\n",
    "from sklearn.ensemble import RandomForestRegressor\n",
    "import tensorflow as tf\n",
    "from tensorflow import keras\n",
    "import math\n",
    "\n",
    "model = LinearRegression()\n",
    "model.fit(x_train[:1000], y_train[:1000])\n",
    "\n",
    "y_pred = model.predict(x_test)\n",
    "\n",
    "print(math.sqrt(mean_squared_error(y_test, y_pred)))\n",
    "\n",
    "# do a random forest\n",
    "\n",
    "model = RandomForestRegressor(n_estimators=100, random_state=42)\n",
    "model.fit(x_train[:1000], y_train[:1000])\n",
    "\n",
    "y_pred = model.predict(x_test)\n",
    "\n",
    "print(math.sqrt(mean_squared_error(y_test, y_pred)))"
   ]
  },
  {
   "cell_type": "code",
   "execution_count": 40,
   "metadata": {},
   "outputs": [
    {
     "name": "stdout",
     "output_type": "stream",
     "text": [
      "Epoch 1/10\n"
     ]
    },
    {
     "name": "stderr",
     "output_type": "stream",
     "text": [
      "c:\\Users\\lukas\\AppData\\Local\\Programs\\Python\\Python310\\lib\\site-packages\\keras\\src\\layers\\core\\dense.py:87: UserWarning: Do not pass an `input_shape`/`input_dim` argument to a layer. When using Sequential models, prefer using an `Input(shape)` object as the first layer in the model instead.\n",
      "  super().__init__(activity_regularizer=activity_regularizer, **kwargs)\n"
     ]
    },
    {
     "name": "stdout",
     "output_type": "stream",
     "text": [
      "\u001b[1m4361/4361\u001b[0m \u001b[32m━━━━━━━━━━━━━━━━━━━━\u001b[0m\u001b[37m\u001b[0m \u001b[1m10s\u001b[0m 2ms/step - loss: 808.0538 - val_loss: 212.3609\n",
      "Epoch 2/10\n",
      "\u001b[1m4361/4361\u001b[0m \u001b[32m━━━━━━━━━━━━━━━━━━━━\u001b[0m\u001b[37m\u001b[0m \u001b[1m7s\u001b[0m 2ms/step - loss: 219.9419 - val_loss: 212.3271\n",
      "Epoch 3/10\n",
      "\u001b[1m4361/4361\u001b[0m \u001b[32m━━━━━━━━━━━━━━━━━━━━\u001b[0m\u001b[37m\u001b[0m \u001b[1m8s\u001b[0m 2ms/step - loss: 219.3571 - val_loss: 211.0280\n",
      "Epoch 4/10\n",
      "\u001b[1m4361/4361\u001b[0m \u001b[32m━━━━━━━━━━━━━━━━━━━━\u001b[0m\u001b[37m\u001b[0m \u001b[1m8s\u001b[0m 2ms/step - loss: 216.2821 - val_loss: 208.5603\n",
      "Epoch 5/10\n",
      "\u001b[1m4361/4361\u001b[0m \u001b[32m━━━━━━━━━━━━━━━━━━━━\u001b[0m\u001b[37m\u001b[0m \u001b[1m7s\u001b[0m 2ms/step - loss: 214.8804 - val_loss: 209.3657\n",
      "Epoch 6/10\n",
      "\u001b[1m4361/4361\u001b[0m \u001b[32m━━━━━━━━━━━━━━━━━━━━\u001b[0m\u001b[37m\u001b[0m \u001b[1m7s\u001b[0m 2ms/step - loss: 211.5105 - val_loss: 206.5955\n",
      "Epoch 7/10\n",
      "\u001b[1m4361/4361\u001b[0m \u001b[32m━━━━━━━━━━━━━━━━━━━━\u001b[0m\u001b[37m\u001b[0m \u001b[1m7s\u001b[0m 2ms/step - loss: 210.3163 - val_loss: 207.2264\n",
      "Epoch 8/10\n",
      "\u001b[1m4361/4361\u001b[0m \u001b[32m━━━━━━━━━━━━━━━━━━━━\u001b[0m\u001b[37m\u001b[0m \u001b[1m7s\u001b[0m 2ms/step - loss: 212.6177 - val_loss: 207.4129\n",
      "Epoch 9/10\n",
      "\u001b[1m4361/4361\u001b[0m \u001b[32m━━━━━━━━━━━━━━━━━━━━\u001b[0m\u001b[37m\u001b[0m \u001b[1m7s\u001b[0m 2ms/step - loss: 211.0694 - val_loss: 207.0383\n",
      "Epoch 10/10\n",
      "\u001b[1m4361/4361\u001b[0m \u001b[32m━━━━━━━━━━━━━━━━━━━━\u001b[0m\u001b[37m\u001b[0m \u001b[1m7s\u001b[0m 2ms/step - loss: 210.5552 - val_loss: 204.9482\n",
      "\u001b[1m1091/1091\u001b[0m \u001b[32m━━━━━━━━━━━━━━━━━━━━\u001b[0m\u001b[37m\u001b[0m \u001b[1m1s\u001b[0m 772us/step\n"
     ]
    },
    {
     "name": "stderr",
     "output_type": "stream",
     "text": [
      "WARNING:absl:You are saving your model as an HDF5 file via `model.save()` or `keras.saving.save_model(model)`. This file format is considered legacy. We recommend using instead the native Keras format, e.g. `model.save('my_model.keras')` or `keras.saving.save_model(model, 'my_model.keras')`. \n"
     ]
    },
    {
     "data": {
      "text/plain": [
       "14.31601529951197"
      ]
     },
     "execution_count": 40,
     "metadata": {},
     "output_type": "execute_result"
    }
   ],
   "source": [
    "model = keras.Sequential([\n",
    "    keras.layers.Dense(64, input_shape=[len(features)]),\n",
    "    keras.layers.BatchNormalization(),\n",
    "    keras.layers.ReLU(),\n",
    "    keras.layers.Dense(128),\n",
    "    keras.layers.BatchNormalization(),\n",
    "    keras.layers.ReLU(),\n",
    "    keras.layers.Dense(64),\n",
    "    keras.layers.BatchNormalization(),\n",
    "    keras.layers.ReLU(),\n",
    "    keras.layers.Dense(32),\n",
    "    keras.layers.BatchNormalization(),\n",
    "    keras.layers.ReLU(),\n",
    "    keras.layers.Dense(16),\n",
    "    keras.layers.BatchNormalization(),\n",
    "    keras.layers.ReLU(),\n",
    "    keras.layers.Dense(1)\n",
    "])\n",
    "\n",
    "optimizer = tf.keras.optimizers.Adam(1e-3)\n",
    "model.compile(optimizer=optimizer, loss='mse')\n",
    "\n",
    "history = model.fit(x_train, y_train, epochs=10, validation_data=(x_test, y_test))\n",
    "\n",
    "y_pred = model.predict(x_test)\n",
    "\n",
    "math.sqrt(mean_squared_error(y_test, y_pred))"
   ]
  },
  {
   "cell_type": "code",
   "execution_count": 42,
   "metadata": {},
   "outputs": [
    {
     "data": {
      "image/png": "[encoded data removed]",
      "text/plain": [
       "<Figure size 640x480 with 1 Axes>"
      ]
     },
     "metadata": {},
     "output_type": "display_data"
    }
   ],
   "source": [
    "plt.plot(history.history['loss'][2:])\n",
    "plt.plot(history.history['val_loss'][2:])\n",
    "\n",
    "plt.title('Model loss progress over epochs')\n",
    "plt.ylabel('Mean Squared Error (MSE)')\n",
    "plt.xlabel('Epoch')\n",
    "plt.legend(['Training loss', 'Validation loss'], loc='upper right')\n",
    "plt.show()"
   ]
  },
  {
   "cell_type": "code",
   "execution_count": 44,
   "metadata": {},
   "outputs": [],
   "source": [
    "save = False\n",
    "if save: model.save('model.keras')"
   ]
  },
  {
   "cell_type": "code",
   "execution_count": 46,
   "metadata": {},
   "outputs": [
    {
     "name": "stdout",
     "output_type": "stream",
     "text": [
      "\u001b[1m1/1\u001b[0m \u001b[32m━━━━━━━━━━━━━━━━━━━━\u001b[0m\u001b[37m\u001b[0m \u001b[1m0s\u001b[0m 103ms/step\n"
     ]
    },
    {
     "name": "stderr",
     "output_type": "stream",
     "text": [
      "c:\\Users\\lukas\\AppData\\Local\\Programs\\Python\\Python310\\lib\\site-packages\\keras\\src\\saving\\saving_lib.py:415: UserWarning: Skipping variable loading for optimizer 'rmsprop', because it has 24 variables whereas the saved optimizer has 46 variables. \n",
      "  saveable.load_own_variables(weights_store.get(inner_path))\n"
     ]
    },
    {
     "data": {
      "text/plain": [
       "array([[28.841507],\n",
       "       [32.703907],\n",
       "       [38.495564],\n",
       "       [51.48348 ],\n",
       "       [48.102325],\n",
       "       [36.90346 ],\n",
       "       [47.113285],\n",
       "       [22.243723],\n",
       "       [44.23259 ],\n",
       "       [45.291294]], dtype=float32)"
      ]
     },
     "execution_count": 46,
     "metadata": {},
     "output_type": "execute_result"
    }
   ],
   "source": [
    "# read the model\n",
    "import keras\n",
    "model = keras.models.load_model('model.keras')\n",
    "\n",
    "# do a prediction\n",
    "x = df[features]\n",
    "y = df[\"popularity\"]\n",
    "\n",
    "model.predict(x_train[:10])"
   ]
  }
 ],
 "metadata": {
  "kernelspec": {
   "display_name": "Python 3",
   "language": "python",
   "name": "python3"
  },
  "language_info": {
   "codemirror_mode": {
    "name": "ipython",
    "version": 3
   },
   "file_extension": ".py",
   "mimetype": "text/x-python",
   "name": "python",
   "nbconvert_exporter": "python",
   "pygments_lexer": "ipython3",
   "version": "3.10.0"
  }
 },
 "nbformat": 4,
 "nbformat_minor": 2
}
