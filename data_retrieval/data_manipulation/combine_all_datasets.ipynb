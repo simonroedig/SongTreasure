{
 "cells": [
  {
   "cell_type": "code",
   "execution_count": 1,
   "id": "2c7a3dfd37759fba",
   "metadata": {
    "collapsed": false,
    "ExecuteTime": {
     "end_time": "2024-07-13T13:37:21.669170Z",
     "start_time": "2024-07-13T13:37:21.667184Z"
    }
   },
   "outputs": [],
   "source": [
    "import pandas as pd\n",
    "import numpy as np\n",
    "import os\n"
   ]
  },
  {
   "cell_type": "markdown",
   "id": "d7b20a5b",
   "metadata": {},
   "source": [
    "Generals"
   ]
  },
  {
   "cell_type": "code",
   "execution_count": 2,
   "id": "d24dcea5",
   "metadata": {
    "ExecuteTime": {
     "end_time": "2024-07-13T13:37:21.672588Z",
     "start_time": "2024-07-13T13:37:21.672037Z"
    }
   },
   "outputs": [],
   "source": [
    "columns_to_keep = ['track_name', 'track_id', 'popularity', 'acousticness', 'danceability', 'duration_ms', 'energy', 'instrumentalness', 'liveness', 'loudness', 'speechiness', 'tempo', 'valence', 'key', 'mode', 'time_signature']\n",
    "\n",
    "dataset_path = \"../datasets/\""
   ]
  },
  {
   "cell_type": "markdown",
   "id": "777eff05",
   "metadata": {},
   "source": [
    "Format random_songs.csv to right structure"
   ]
  },
  {
   "cell_type": "code",
   "execution_count": 3,
   "id": "a71759b9",
   "metadata": {
    "ExecuteTime": {
     "end_time": "2024-07-13T13:37:22.708225Z",
     "start_time": "2024-07-13T13:37:21.674212Z"
    }
   },
   "outputs": [
    {
     "data": {
      "text/plain": "                               track_name                track_id  popularity  \\\n0                           Prece a Iansã  5f74voxOH9UIgMmdIB5Sxk           2   \n1                    Na Congo To Salakala  1JUtRzUVINB4PWYkiLF1do           0   \n2                         It Must Be Love  25gtHkSLEjoioXqmoGTK10           0   \n3  Mister Boogie (Honky Tonk Train Blues)  2BBHhUKbo3VxUJdQxLpyNd           1   \n4                                   Cages  1FiXVMLHXmf3uPrGEzabyk           0   \n\n   acousticness  danceability  duration_ms  energy  instrumentalness  \\\n0        0.9050         0.907       178013   0.623          0.407000   \n1        0.8320         0.643        78000   0.101          0.000000   \n2        0.6590         0.496       152600   0.618          0.000011   \n3        0.5610         0.866       137578   0.902          0.000002   \n4        0.0497         0.210       319359   0.452          0.804000   \n\n   liveness  loudness  speechiness    tempo  valence key   mode time_signature  \n0    0.2760   -10.502       0.1770  125.658    0.902   G  Minor            4/4  \n1    0.1820   -16.933       0.1290  156.946    0.623   C  Major            4/4  \n2    0.0711    -7.356       0.0342   78.071    0.960  D#  Major            4/4  \n3    0.0556    -8.005       0.0722  137.447    0.937   F  Major            4/4  \n4    0.0953   -17.386       0.0508  177.853    0.342   D  Major            4/4  ",
      "text/html": "<div>\n<style scoped>\n    .dataframe tbody tr th:only-of-type {\n        vertical-align: middle;\n    }\n\n    .dataframe tbody tr th {\n        vertical-align: top;\n    }\n\n    .dataframe thead th {\n        text-align: right;\n    }\n</style>\n<table border=\"1\" class=\"dataframe\">\n  <thead>\n    <tr style=\"text-align: right;\">\n      <th></th>\n      <th>track_name</th>\n      <th>track_id</th>\n      <th>popularity</th>\n      <th>acousticness</th>\n      <th>danceability</th>\n      <th>duration_ms</th>\n      <th>energy</th>\n      <th>instrumentalness</th>\n      <th>liveness</th>\n      <th>loudness</th>\n      <th>speechiness</th>\n      <th>tempo</th>\n      <th>valence</th>\n      <th>key</th>\n      <th>mode</th>\n      <th>time_signature</th>\n    </tr>\n  </thead>\n  <tbody>\n    <tr>\n      <th>0</th>\n      <td>Prece a Iansã</td>\n      <td>5f74voxOH9UIgMmdIB5Sxk</td>\n      <td>2</td>\n      <td>0.9050</td>\n      <td>0.907</td>\n      <td>178013</td>\n      <td>0.623</td>\n      <td>0.407000</td>\n      <td>0.2760</td>\n      <td>-10.502</td>\n      <td>0.1770</td>\n      <td>125.658</td>\n      <td>0.902</td>\n      <td>G</td>\n      <td>Minor</td>\n      <td>4/4</td>\n    </tr>\n    <tr>\n      <th>1</th>\n      <td>Na Congo To Salakala</td>\n      <td>1JUtRzUVINB4PWYkiLF1do</td>\n      <td>0</td>\n      <td>0.8320</td>\n      <td>0.643</td>\n      <td>78000</td>\n      <td>0.101</td>\n      <td>0.000000</td>\n      <td>0.1820</td>\n      <td>-16.933</td>\n      <td>0.1290</td>\n      <td>156.946</td>\n      <td>0.623</td>\n      <td>C</td>\n      <td>Major</td>\n      <td>4/4</td>\n    </tr>\n    <tr>\n      <th>2</th>\n      <td>It Must Be Love</td>\n      <td>25gtHkSLEjoioXqmoGTK10</td>\n      <td>0</td>\n      <td>0.6590</td>\n      <td>0.496</td>\n      <td>152600</td>\n      <td>0.618</td>\n      <td>0.000011</td>\n      <td>0.0711</td>\n      <td>-7.356</td>\n      <td>0.0342</td>\n      <td>78.071</td>\n      <td>0.960</td>\n      <td>D#</td>\n      <td>Major</td>\n      <td>4/4</td>\n    </tr>\n    <tr>\n      <th>3</th>\n      <td>Mister Boogie (Honky Tonk Train Blues)</td>\n      <td>2BBHhUKbo3VxUJdQxLpyNd</td>\n      <td>1</td>\n      <td>0.5610</td>\n      <td>0.866</td>\n      <td>137578</td>\n      <td>0.902</td>\n      <td>0.000002</td>\n      <td>0.0556</td>\n      <td>-8.005</td>\n      <td>0.0722</td>\n      <td>137.447</td>\n      <td>0.937</td>\n      <td>F</td>\n      <td>Major</td>\n      <td>4/4</td>\n    </tr>\n    <tr>\n      <th>4</th>\n      <td>Cages</td>\n      <td>1FiXVMLHXmf3uPrGEzabyk</td>\n      <td>0</td>\n      <td>0.0497</td>\n      <td>0.210</td>\n      <td>319359</td>\n      <td>0.452</td>\n      <td>0.804000</td>\n      <td>0.0953</td>\n      <td>-17.386</td>\n      <td>0.0508</td>\n      <td>177.853</td>\n      <td>0.342</td>\n      <td>D</td>\n      <td>Major</td>\n      <td>4/4</td>\n    </tr>\n  </tbody>\n</table>\n</div>"
     },
     "execution_count": 3,
     "metadata": {},
     "output_type": "execute_result"
    }
   ],
   "source": [
    "random_songs_df = pd.read_csv(f'{dataset_path}random_songs.csv')\n",
    "\n",
    "# Original mappings\n",
    "key_conversion = {\"C\": 0, \"C#\": 1, \"D\": 2, \"D#\": 3, \"E\": 4, \"F\": 5, \"F#\": 6, \"G\": 7, \"G#\": 8, \"A\": 9, \"A#\": 10, \"B\": 11}\n",
    "mode_conversion = {\"Major\": 1, \"Minor\": 0}\n",
    "time_signature_conversion = {\"3/4\": 3, \"4/4\": 4, \"5/4\": 5, \"6/4\": 6, \"7/4\": 7}\n",
    "\n",
    "# Reverse mappings\n",
    "reverse_key_conversion = {v: k for k, v in key_conversion.items()}\n",
    "reverse_mode_conversion = {v: k for k, v in mode_conversion.items()}\n",
    "reverse_time_signature_conversion = {v: k for k, v in time_signature_conversion.items()}\n",
    "\n",
    "# Apply reverse mappings\n",
    "random_songs_df['key'] = random_songs_df['key'].map(reverse_key_conversion)\n",
    "random_songs_df['mode'] = random_songs_df['mode'].map(reverse_mode_conversion)\n",
    "random_songs_df['time_signature'] = random_songs_df['time_signature'].map(reverse_time_signature_conversion)\n",
    "\n",
    "# Change id to track_id\n",
    "random_songs_df.rename(columns={'id': 'track_id'}, inplace=True)\n",
    "random_songs_df.drop_duplicates(subset=['track_id'], inplace=True)\n",
    "random_songs_df = random_songs_df[columns_to_keep]\n",
    "\n",
    "#random_songs_df.to_csv('songs.csv', index=False)\n",
    "\n",
    "random_songs_df.head()"
   ]
  },
  {
   "cell_type": "markdown",
   "id": "a750de62",
   "metadata": {},
   "source": [
    "Format SpotifyFeatures.csv into right structure"
   ]
  },
  {
   "cell_type": "code",
   "execution_count": 4,
   "id": "b75ad8ce",
   "metadata": {
    "ExecuteTime": {
     "end_time": "2024-07-13T13:37:22.713560Z",
     "start_time": "2024-07-13T13:37:22.708434Z"
    }
   },
   "outputs": [
    {
     "data": {
      "text/plain": "104951"
     },
     "execution_count": 4,
     "metadata": {},
     "output_type": "execute_result"
    }
   ],
   "source": [
    "len(random_songs_df)"
   ]
  },
  {
   "cell_type": "code",
   "execution_count": 5,
   "id": "33a02d1d1d6a228b",
   "metadata": {
    "collapsed": false,
    "ExecuteTime": {
     "end_time": "2024-07-13T13:37:23.434408Z",
     "start_time": "2024-07-13T13:37:22.712019Z"
    }
   },
   "outputs": [
    {
     "data": {
      "text/plain": "                         track_name                track_id  popularity  \\\n0       C'est beau de faire un Show  0BRjO6ga9RKCKjfDqeFgWV           0   \n1  Perdu d'avance (par Gad Elmaleh)  0BjC1NfoEOOusryehmNudP           1   \n2    Don't Let Me Be Lonely Tonight  0CoSDzoNIKCRs124s9uTVy           3   \n3    Dis-moi Monsieur Gordon Cooper  0Gc6TVm52BwZD07Ki6tIvf           0   \n4                         Ouverture  0IuslXpMROHdEPvSl1fTQK           4   \n\n   acousticness  danceability  duration_ms  energy  instrumentalness  \\\n0         0.611         0.389        99373   0.910             0.000   \n1         0.246         0.590       137373   0.737             0.000   \n2         0.952         0.663       170267   0.131             0.000   \n3         0.703         0.240       152427   0.326             0.000   \n4         0.950         0.331        82625   0.225             0.123   \n\n   liveness  loudness  speechiness    tempo  valence  key  mode  \\\n0    0.3460    -1.828       0.0525  166.969    0.814    1     1   \n1    0.1510    -5.559       0.0868  174.003    0.816    6     0   \n2    0.1030   -13.879       0.0362   99.488    0.368    0     0   \n3    0.0985   -12.178       0.0395  171.758    0.227    1     1   \n4    0.2020   -21.150       0.0456  140.576    0.390    5     1   \n\n   time_signature  \n0             4.0  \n1             4.0  \n2             5.0  \n3             4.0  \n4             4.0  ",
      "text/html": "<div>\n<style scoped>\n    .dataframe tbody tr th:only-of-type {\n        vertical-align: middle;\n    }\n\n    .dataframe tbody tr th {\n        vertical-align: top;\n    }\n\n    .dataframe thead th {\n        text-align: right;\n    }\n</style>\n<table border=\"1\" class=\"dataframe\">\n  <thead>\n    <tr style=\"text-align: right;\">\n      <th></th>\n      <th>track_name</th>\n      <th>track_id</th>\n      <th>popularity</th>\n      <th>acousticness</th>\n      <th>danceability</th>\n      <th>duration_ms</th>\n      <th>energy</th>\n      <th>instrumentalness</th>\n      <th>liveness</th>\n      <th>loudness</th>\n      <th>speechiness</th>\n      <th>tempo</th>\n      <th>valence</th>\n      <th>key</th>\n      <th>mode</th>\n      <th>time_signature</th>\n    </tr>\n  </thead>\n  <tbody>\n    <tr>\n      <th>0</th>\n      <td>C'est beau de faire un Show</td>\n      <td>0BRjO6ga9RKCKjfDqeFgWV</td>\n      <td>0</td>\n      <td>0.611</td>\n      <td>0.389</td>\n      <td>99373</td>\n      <td>0.910</td>\n      <td>0.000</td>\n      <td>0.3460</td>\n      <td>-1.828</td>\n      <td>0.0525</td>\n      <td>166.969</td>\n      <td>0.814</td>\n      <td>1</td>\n      <td>1</td>\n      <td>4.0</td>\n    </tr>\n    <tr>\n      <th>1</th>\n      <td>Perdu d'avance (par Gad Elmaleh)</td>\n      <td>0BjC1NfoEOOusryehmNudP</td>\n      <td>1</td>\n      <td>0.246</td>\n      <td>0.590</td>\n      <td>137373</td>\n      <td>0.737</td>\n      <td>0.000</td>\n      <td>0.1510</td>\n      <td>-5.559</td>\n      <td>0.0868</td>\n      <td>174.003</td>\n      <td>0.816</td>\n      <td>6</td>\n      <td>0</td>\n      <td>4.0</td>\n    </tr>\n    <tr>\n      <th>2</th>\n      <td>Don't Let Me Be Lonely Tonight</td>\n      <td>0CoSDzoNIKCRs124s9uTVy</td>\n      <td>3</td>\n      <td>0.952</td>\n      <td>0.663</td>\n      <td>170267</td>\n      <td>0.131</td>\n      <td>0.000</td>\n      <td>0.1030</td>\n      <td>-13.879</td>\n      <td>0.0362</td>\n      <td>99.488</td>\n      <td>0.368</td>\n      <td>0</td>\n      <td>0</td>\n      <td>5.0</td>\n    </tr>\n    <tr>\n      <th>3</th>\n      <td>Dis-moi Monsieur Gordon Cooper</td>\n      <td>0Gc6TVm52BwZD07Ki6tIvf</td>\n      <td>0</td>\n      <td>0.703</td>\n      <td>0.240</td>\n      <td>152427</td>\n      <td>0.326</td>\n      <td>0.000</td>\n      <td>0.0985</td>\n      <td>-12.178</td>\n      <td>0.0395</td>\n      <td>171.758</td>\n      <td>0.227</td>\n      <td>1</td>\n      <td>1</td>\n      <td>4.0</td>\n    </tr>\n    <tr>\n      <th>4</th>\n      <td>Ouverture</td>\n      <td>0IuslXpMROHdEPvSl1fTQK</td>\n      <td>4</td>\n      <td>0.950</td>\n      <td>0.331</td>\n      <td>82625</td>\n      <td>0.225</td>\n      <td>0.123</td>\n      <td>0.2020</td>\n      <td>-21.150</td>\n      <td>0.0456</td>\n      <td>140.576</td>\n      <td>0.390</td>\n      <td>5</td>\n      <td>1</td>\n      <td>4.0</td>\n    </tr>\n  </tbody>\n</table>\n</div>"
     },
     "execution_count": 5,
     "metadata": {},
     "output_type": "execute_result"
    }
   ],
   "source": [
    "spotify_features_df = pd.read_csv(f'{dataset_path}SpotifyFeatures.csv')\n",
    "\n",
    "key_conversion = {\"C\": 0, \"C#\": 1, \"D\": 2, \"D#\": 3, \"E\": 4, \"F\": 5, \"F#\": 6, \"G\": 7, \"G#\": 8, \"A\": 9, \"A#\": 10, \"B\": 11}\n",
    "mode_conversion = {\"Major\": 1, \"Minor\": 0}\n",
    "time_signature_conversion = {\"3/4\": 3, \"4/4\": 4, \"5/4\": 5, \"6/4\": 6, \"7/4\": 7}\n",
    "\n",
    "spotify_features_df['key'] = spotify_features_df['key'].map(key_conversion)\n",
    "spotify_features_df['mode'] = spotify_features_df['mode'].map(mode_conversion)\n",
    "spotify_features_df['time_signature'] = spotify_features_df['time_signature'].map(time_signature_conversion)\n",
    "spotify_features_df.drop_duplicates(subset=['track_id'], inplace=True)\n",
    "spotify_features_df = spotify_features_df[columns_to_keep]\n",
    "\n",
    "spotify_features_df.head()"
   ]
  },
  {
   "cell_type": "code",
   "execution_count": 6,
   "id": "b83a6fbf",
   "metadata": {
    "ExecuteTime": {
     "end_time": "2024-07-13T13:37:23.434777Z",
     "start_time": "2024-07-13T13:37:23.430077Z"
    }
   },
   "outputs": [
    {
     "data": {
      "text/plain": "176774"
     },
     "execution_count": 6,
     "metadata": {},
     "output_type": "execute_result"
    }
   ],
   "source": [
    "len(spotify_features_df)"
   ]
  },
  {
   "cell_type": "markdown",
   "id": "98da0f63",
   "metadata": {},
   "source": [
    "Format universal_top_spotify_songs.csv into right structure"
   ]
  },
  {
   "cell_type": "code",
   "execution_count": 7,
   "id": "e5e9531e",
   "metadata": {
    "ExecuteTime": {
     "end_time": "2024-07-13T13:37:25.580725Z",
     "start_time": "2024-07-13T13:37:23.435507Z"
    }
   },
   "outputs": [
    {
     "data": {
      "text/plain": "             track_name                track_id  popularity  acousticness  \\\n0              Espresso  2qSkIjg1o9h3YT9RAgYN75          99        0.1070   \n1    BIRDS OF A FEATHER  6dOtVTDdiauQNBQEDOtlAB          98        0.2000   \n2  Please Please Please  5N3hjp1WNayUPZrA8kJmJP          98        0.2740   \n3           Not Like Us  6AI3ezQ4o3HUoP6Dhudph3          96        0.0107   \n4             Gata Only  6XjDF6nds4DE2BBbagZol6          96        0.4460   \n\n   danceability  duration_ms  energy  instrumentalness  liveness  loudness  \\\n0         0.701       175459   0.760          0.000065    0.1850    -5.478   \n1         0.747       210373   0.507          0.060800    0.1170   -10.171   \n2         0.669       186365   0.586          0.000000    0.1040    -6.073   \n3         0.898       274192   0.472          0.000000    0.1410    -7.001   \n4         0.791       222000   0.499          0.000024    0.0899    -8.472   \n\n   speechiness    tempo  valence  key  mode  time_signature  \n0       0.0285  103.969    0.690    0     1               4  \n1       0.0358  104.978    0.438    2     1               4  \n2       0.0540  107.071    0.579    9     1               4  \n3       0.0776  101.061    0.214    1     1               4  \n4       0.0509   99.986    0.669    8     0               4  ",
      "text/html": "<div>\n<style scoped>\n    .dataframe tbody tr th:only-of-type {\n        vertical-align: middle;\n    }\n\n    .dataframe tbody tr th {\n        vertical-align: top;\n    }\n\n    .dataframe thead th {\n        text-align: right;\n    }\n</style>\n<table border=\"1\" class=\"dataframe\">\n  <thead>\n    <tr style=\"text-align: right;\">\n      <th></th>\n      <th>track_name</th>\n      <th>track_id</th>\n      <th>popularity</th>\n      <th>acousticness</th>\n      <th>danceability</th>\n      <th>duration_ms</th>\n      <th>energy</th>\n      <th>instrumentalness</th>\n      <th>liveness</th>\n      <th>loudness</th>\n      <th>speechiness</th>\n      <th>tempo</th>\n      <th>valence</th>\n      <th>key</th>\n      <th>mode</th>\n      <th>time_signature</th>\n    </tr>\n  </thead>\n  <tbody>\n    <tr>\n      <th>0</th>\n      <td>Espresso</td>\n      <td>2qSkIjg1o9h3YT9RAgYN75</td>\n      <td>99</td>\n      <td>0.1070</td>\n      <td>0.701</td>\n      <td>175459</td>\n      <td>0.760</td>\n      <td>0.000065</td>\n      <td>0.1850</td>\n      <td>-5.478</td>\n      <td>0.0285</td>\n      <td>103.969</td>\n      <td>0.690</td>\n      <td>0</td>\n      <td>1</td>\n      <td>4</td>\n    </tr>\n    <tr>\n      <th>1</th>\n      <td>BIRDS OF A FEATHER</td>\n      <td>6dOtVTDdiauQNBQEDOtlAB</td>\n      <td>98</td>\n      <td>0.2000</td>\n      <td>0.747</td>\n      <td>210373</td>\n      <td>0.507</td>\n      <td>0.060800</td>\n      <td>0.1170</td>\n      <td>-10.171</td>\n      <td>0.0358</td>\n      <td>104.978</td>\n      <td>0.438</td>\n      <td>2</td>\n      <td>1</td>\n      <td>4</td>\n    </tr>\n    <tr>\n      <th>2</th>\n      <td>Please Please Please</td>\n      <td>5N3hjp1WNayUPZrA8kJmJP</td>\n      <td>98</td>\n      <td>0.2740</td>\n      <td>0.669</td>\n      <td>186365</td>\n      <td>0.586</td>\n      <td>0.000000</td>\n      <td>0.1040</td>\n      <td>-6.073</td>\n      <td>0.0540</td>\n      <td>107.071</td>\n      <td>0.579</td>\n      <td>9</td>\n      <td>1</td>\n      <td>4</td>\n    </tr>\n    <tr>\n      <th>3</th>\n      <td>Not Like Us</td>\n      <td>6AI3ezQ4o3HUoP6Dhudph3</td>\n      <td>96</td>\n      <td>0.0107</td>\n      <td>0.898</td>\n      <td>274192</td>\n      <td>0.472</td>\n      <td>0.000000</td>\n      <td>0.1410</td>\n      <td>-7.001</td>\n      <td>0.0776</td>\n      <td>101.061</td>\n      <td>0.214</td>\n      <td>1</td>\n      <td>1</td>\n      <td>4</td>\n    </tr>\n    <tr>\n      <th>4</th>\n      <td>Gata Only</td>\n      <td>6XjDF6nds4DE2BBbagZol6</td>\n      <td>96</td>\n      <td>0.4460</td>\n      <td>0.791</td>\n      <td>222000</td>\n      <td>0.499</td>\n      <td>0.000024</td>\n      <td>0.0899</td>\n      <td>-8.472</td>\n      <td>0.0509</td>\n      <td>99.986</td>\n      <td>0.669</td>\n      <td>8</td>\n      <td>0</td>\n      <td>4</td>\n    </tr>\n  </tbody>\n</table>\n</div>"
     },
     "execution_count": 7,
     "metadata": {},
     "output_type": "execute_result"
    }
   ],
   "source": [
    "universal_top_songs = pd.read_csv(f'{dataset_path}universal_top_spotify_songs.csv')\n",
    "\n",
    "universal_top_songs.rename(columns={'spotify_id':'track_id'}, inplace=True)\n",
    "universal_top_songs.rename(columns={'name':'track_name'}, inplace=True)\n",
    "universal_top_songs.rename(columns={'artists':'artist'}, inplace=True)\n",
    "universal_top_songs.drop_duplicates(subset=['track_id'], inplace=True)\n",
    "universal_top_songs = universal_top_songs[columns_to_keep]\n",
    "\n",
    "universal_top_songs.head()"
   ]
  },
  {
   "cell_type": "code",
   "execution_count": 8,
   "id": "c75d9711",
   "metadata": {
    "ExecuteTime": {
     "end_time": "2024-07-13T13:37:25.586911Z",
     "start_time": "2024-07-13T13:37:25.580544Z"
    }
   },
   "outputs": [
    {
     "data": {
      "text/plain": "12845"
     },
     "execution_count": 8,
     "metadata": {},
     "output_type": "execute_result"
    }
   ],
   "source": [
    "len(universal_top_songs)"
   ]
  },
  {
   "cell_type": "markdown",
   "id": "b10a4f37",
   "metadata": {},
   "source": [
    "Check if all dfs have the same columns"
   ]
  },
  {
   "cell_type": "code",
   "execution_count": 9,
   "id": "cb7eae92",
   "metadata": {
    "ExecuteTime": {
     "end_time": "2024-07-13T13:37:25.588164Z",
     "start_time": "2024-07-13T13:37:25.585418Z"
    }
   },
   "outputs": [
    {
     "name": "stdout",
     "output_type": "stream",
     "text": [
      "random_songs_df columns: Index(['track_name', 'track_id', 'popularity', 'acousticness', 'danceability',\n",
      "       'duration_ms', 'energy', 'instrumentalness', 'liveness', 'loudness',\n",
      "       'speechiness', 'tempo', 'valence', 'key', 'mode', 'time_signature'],\n",
      "      dtype='object')\n",
      "spotify_features_df columns: Index(['track_name', 'track_id', 'popularity', 'acousticness', 'danceability',\n",
      "       'duration_ms', 'energy', 'instrumentalness', 'liveness', 'loudness',\n",
      "       'speechiness', 'tempo', 'valence', 'key', 'mode', 'time_signature'],\n",
      "      dtype='object')\n",
      "universal_top_songs columns: Index(['track_name', 'track_id', 'popularity', 'acousticness', 'danceability',\n",
      "       'duration_ms', 'energy', 'instrumentalness', 'liveness', 'loudness',\n",
      "       'speechiness', 'tempo', 'valence', 'key', 'mode', 'time_signature'],\n",
      "      dtype='object')\n",
      "All columns are the same\n"
     ]
    }
   ],
   "source": [
    "# Print columns of each dataframe\n",
    "print(\"random_songs_df columns:\", random_songs_df.columns)\n",
    "print(\"spotify_features_df columns:\", spotify_features_df.columns)\n",
    "print(\"universal_top_songs columns:\", universal_top_songs.columns)\n",
    "\n",
    "# Check if all dataframes have the same columns\n",
    "if set(random_songs_df.columns) == set(spotify_features_df.columns) == set(universal_top_songs.columns):\n",
    "    print(\"All columns are the same\")\n",
    "else:\n",
    "    print(\"Columns are different\")\n",
    "    if set(random_songs_df.columns) != set(spotify_features_df.columns):\n",
    "        print(f'Differences between random_songs_df and spotify_features_df: {set(random_songs_df.columns) - set(spotify_features_df.columns)}')\n",
    "        print(f'Differences between spotify_features_df and random_songs_df: {set(spotify_features_df.columns) - set(random_songs_df.columns)}')\n",
    "    if set(random_songs_df.columns) != set(universal_top_songs.columns):\n",
    "        print(f'Differences between random_songs_df and universal_top_songs: {set(random_songs_df.columns) - set(universal_top_songs.columns)}')\n",
    "        print(f'Differences between universal_top_songs and random_songs_df: {set(universal_top_songs.columns) - set(random_songs_df.columns)}')\n",
    "    if set(spotify_features_df.columns) != set(universal_top_songs.columns):\n",
    "        print(f'Differences between spotify_features_df and universal_top_songs: {set(spotify_features_df.columns) - set(universal_top_songs.columns)}')\n",
    "        print(f'Differences between universal_top_songs and spotify_features_df: {set(universal_top_songs.columns) - set(spotify_features_df.columns)}')"
   ]
  },
  {
   "cell_type": "markdown",
   "id": "23e25a1d",
   "metadata": {},
   "source": [
    "Concatinate all datasets"
   ]
  },
  {
   "cell_type": "code",
   "execution_count": 10,
   "id": "a37e13c6",
   "metadata": {
    "ExecuteTime": {
     "end_time": "2024-07-13T13:37:25.709590Z",
     "start_time": "2024-07-13T13:37:25.588841Z"
    }
   },
   "outputs": [
    {
     "data": {
      "text/plain": "                               track_name                track_id  popularity  \\\n0                           Prece a Iansã  5f74voxOH9UIgMmdIB5Sxk           2   \n1                    Na Congo To Salakala  1JUtRzUVINB4PWYkiLF1do           0   \n2                         It Must Be Love  25gtHkSLEjoioXqmoGTK10           0   \n3  Mister Boogie (Honky Tonk Train Blues)  2BBHhUKbo3VxUJdQxLpyNd           1   \n4                                   Cages  1FiXVMLHXmf3uPrGEzabyk           0   \n\n   acousticness  danceability  duration_ms  energy  instrumentalness  \\\n0        0.9050         0.907       178013   0.623          0.407000   \n1        0.8320         0.643        78000   0.101          0.000000   \n2        0.6590         0.496       152600   0.618          0.000011   \n3        0.5610         0.866       137578   0.902          0.000002   \n4        0.0497         0.210       319359   0.452          0.804000   \n\n   liveness  loudness  speechiness    tempo  valence key   mode time_signature  \n0    0.2760   -10.502       0.1770  125.658    0.902   G  Minor            4/4  \n1    0.1820   -16.933       0.1290  156.946    0.623   C  Major            4/4  \n2    0.0711    -7.356       0.0342   78.071    0.960  D#  Major            4/4  \n3    0.0556    -8.005       0.0722  137.447    0.937   F  Major            4/4  \n4    0.0953   -17.386       0.0508  177.853    0.342   D  Major            4/4  ",
      "text/html": "<div>\n<style scoped>\n    .dataframe tbody tr th:only-of-type {\n        vertical-align: middle;\n    }\n\n    .dataframe tbody tr th {\n        vertical-align: top;\n    }\n\n    .dataframe thead th {\n        text-align: right;\n    }\n</style>\n<table border=\"1\" class=\"dataframe\">\n  <thead>\n    <tr style=\"text-align: right;\">\n      <th></th>\n      <th>track_name</th>\n      <th>track_id</th>\n      <th>popularity</th>\n      <th>acousticness</th>\n      <th>danceability</th>\n      <th>duration_ms</th>\n      <th>energy</th>\n      <th>instrumentalness</th>\n      <th>liveness</th>\n      <th>loudness</th>\n      <th>speechiness</th>\n      <th>tempo</th>\n      <th>valence</th>\n      <th>key</th>\n      <th>mode</th>\n      <th>time_signature</th>\n    </tr>\n  </thead>\n  <tbody>\n    <tr>\n      <th>0</th>\n      <td>Prece a Iansã</td>\n      <td>5f74voxOH9UIgMmdIB5Sxk</td>\n      <td>2</td>\n      <td>0.9050</td>\n      <td>0.907</td>\n      <td>178013</td>\n      <td>0.623</td>\n      <td>0.407000</td>\n      <td>0.2760</td>\n      <td>-10.502</td>\n      <td>0.1770</td>\n      <td>125.658</td>\n      <td>0.902</td>\n      <td>G</td>\n      <td>Minor</td>\n      <td>4/4</td>\n    </tr>\n    <tr>\n      <th>1</th>\n      <td>Na Congo To Salakala</td>\n      <td>1JUtRzUVINB4PWYkiLF1do</td>\n      <td>0</td>\n      <td>0.8320</td>\n      <td>0.643</td>\n      <td>78000</td>\n      <td>0.101</td>\n      <td>0.000000</td>\n      <td>0.1820</td>\n      <td>-16.933</td>\n      <td>0.1290</td>\n      <td>156.946</td>\n      <td>0.623</td>\n      <td>C</td>\n      <td>Major</td>\n      <td>4/4</td>\n    </tr>\n    <tr>\n      <th>2</th>\n      <td>It Must Be Love</td>\n      <td>25gtHkSLEjoioXqmoGTK10</td>\n      <td>0</td>\n      <td>0.6590</td>\n      <td>0.496</td>\n      <td>152600</td>\n      <td>0.618</td>\n      <td>0.000011</td>\n      <td>0.0711</td>\n      <td>-7.356</td>\n      <td>0.0342</td>\n      <td>78.071</td>\n      <td>0.960</td>\n      <td>D#</td>\n      <td>Major</td>\n      <td>4/4</td>\n    </tr>\n    <tr>\n      <th>3</th>\n      <td>Mister Boogie (Honky Tonk Train Blues)</td>\n      <td>2BBHhUKbo3VxUJdQxLpyNd</td>\n      <td>1</td>\n      <td>0.5610</td>\n      <td>0.866</td>\n      <td>137578</td>\n      <td>0.902</td>\n      <td>0.000002</td>\n      <td>0.0556</td>\n      <td>-8.005</td>\n      <td>0.0722</td>\n      <td>137.447</td>\n      <td>0.937</td>\n      <td>F</td>\n      <td>Major</td>\n      <td>4/4</td>\n    </tr>\n    <tr>\n      <th>4</th>\n      <td>Cages</td>\n      <td>1FiXVMLHXmf3uPrGEzabyk</td>\n      <td>0</td>\n      <td>0.0497</td>\n      <td>0.210</td>\n      <td>319359</td>\n      <td>0.452</td>\n      <td>0.804000</td>\n      <td>0.0953</td>\n      <td>-17.386</td>\n      <td>0.0508</td>\n      <td>177.853</td>\n      <td>0.342</td>\n      <td>D</td>\n      <td>Major</td>\n      <td>4/4</td>\n    </tr>\n  </tbody>\n</table>\n</div>"
     },
     "execution_count": 10,
     "metadata": {},
     "output_type": "execute_result"
    }
   ],
   "source": [
    "all_songs_df = pd.concat([random_songs_df, spotify_features_df, universal_top_songs], ignore_index=True)\n",
    "all_songs_df.drop_duplicates(subset=['track_id'], inplace=True)\n",
    "all_songs_df.head()\n"
   ]
  },
  {
   "cell_type": "code",
   "execution_count": 11,
   "id": "9fe487c4",
   "metadata": {
    "ExecuteTime": {
     "end_time": "2024-07-13T13:37:25.709818Z",
     "start_time": "2024-07-13T13:37:25.699734Z"
    }
   },
   "outputs": [
    {
     "data": {
      "text/plain": "292758"
     },
     "execution_count": 11,
     "metadata": {},
     "output_type": "execute_result"
    }
   ],
   "source": [
    "len(all_songs_df)"
   ]
  },
  {
   "cell_type": "markdown",
   "id": "f177866e",
   "metadata": {},
   "source": [
    "Put in csv"
   ]
  },
  {
   "cell_type": "code",
   "execution_count": 12,
   "id": "459861bc",
   "metadata": {
    "ExecuteTime": {
     "end_time": "2024-07-13T13:37:27.534381Z",
     "start_time": "2024-07-13T13:37:25.706345Z"
    }
   },
   "outputs": [],
   "source": [
    "all_songs_df.to_csv(f'{dataset_path}all_songs.csv', index=False)"
   ]
  },
  {
   "cell_type": "markdown",
   "id": "c7e9bb2a",
   "metadata": {},
   "source": []
  }
 ],
 "metadata": {
  "kernelspec": {
   "display_name": "Python 3",
   "language": "python",
   "name": "python3"
  },
  "language_info": {
   "codemirror_mode": {
    "name": "ipython",
    "version": 3
   },
   "file_extension": ".py",
   "mimetype": "text/x-python",
   "name": "python",
   "nbconvert_exporter": "python",
   "pygments_lexer": "ipython3",
   "version": "3.8.19"
  }
 },
 "nbformat": 4,
 "nbformat_minor": 5
}
